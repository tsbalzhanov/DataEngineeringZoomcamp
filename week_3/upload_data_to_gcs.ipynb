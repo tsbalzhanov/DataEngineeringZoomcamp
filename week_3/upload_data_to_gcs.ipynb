{
 "cells": [
  {
   "cell_type": "code",
   "execution_count": 1,
   "id": "8e4a46a6-1002-44ec-b6e2-ba19957086cc",
   "metadata": {},
   "outputs": [],
   "source": [
    "import io\n",
    "import os\n",
    "import tempfile\n",
    "\n",
    "import requests\n",
    "import pyarrow as pa\n",
    "import pyarrow.parquet as pq\n",
    "\n",
    "import tqdm.notebook as tqdm"
   ]
  },
  {
   "cell_type": "code",
   "execution_count": 2,
   "id": "9f848506-d753-4b6e-9708-3000144ab304",
   "metadata": {},
   "outputs": [],
   "source": [
    "gcp_credentials_path = '~/Workspace/DTC/DE/credentials/gcp.json'\n",
    "os.environ['GOOGLE_APPLICATION_CREDENTIALS'] = os.path.expanduser(gcp_credentials_path)\n",
    "\n",
    "bucket_name = 'tsbalzhanov-dtc-week-3'\n",
    "gcs_file_path = f'{bucket_name}/green_taxi_data/green_tripdata_2022'\n",
    "gcs_fs = pa.fs.GcsFileSystem()"
   ]
  },
  {
   "cell_type": "code",
   "execution_count": 3,
   "id": "f156170c-52ea-4383-80a7-9379b57291ef",
   "metadata": {},
   "outputs": [
    {
     "data": {
      "application/vnd.jupyter.widget-view+json": {
       "model_id": "243b983920ae4006a2c167f1b91fe00e",
       "version_major": 2,
       "version_minor": 0
      },
      "text/plain": [
       "  0%|          | 0/12 [00:00<?, ?it/s]"
      ]
     },
     "metadata": {},
     "output_type": "display_data"
    }
   ],
   "source": [
    "year = 2022\n",
    "\n",
    "pa_tables = []\n",
    "\n",
    "for month in tqdm.tnrange(1, 13):\n",
    "    url = f'https://d37ci6vzurychx.cloudfront.net/trip-data/green_tripdata_{year}-{month:02}.parquet'\n",
    "    file_name = url.split('/')[-1]\n",
    "\n",
    "    result = requests.get(url)\n",
    "    result.raise_for_status()\n",
    "\n",
    "    parquet_file = io.BytesIO(result.content)\n",
    "    pa_tables.append(pq.read_table(parquet_file))"
   ]
  },
  {
   "cell_type": "code",
   "execution_count": 4,
   "id": "49fe1bff-aba0-49b0-b2b5-a3de1bb544e1",
   "metadata": {},
   "outputs": [],
   "source": [
    "combined_table = pa.concat_tables(pa_tables)\n",
    "pq.write_table(combined_table, gcs_file_path, filesystem=gcs_fs)"
   ]
  },
  {
   "cell_type": "code",
   "execution_count": null,
   "id": "6aecc2d1-4161-47df-8406-138836ce6799",
   "metadata": {},
   "outputs": [],
   "source": []
  }
 ],
 "metadata": {
  "kernelspec": {
   "display_name": "Python 3 (ipykernel)",
   "language": "python",
   "name": "python3"
  },
  "language_info": {
   "codemirror_mode": {
    "name": "ipython",
    "version": 3
   },
   "file_extension": ".py",
   "mimetype": "text/x-python",
   "name": "python",
   "nbconvert_exporter": "python",
   "pygments_lexer": "ipython3",
   "version": "3.12.0"
  }
 },
 "nbformat": 4,
 "nbformat_minor": 5
}
