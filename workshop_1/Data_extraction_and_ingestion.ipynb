{
  "nbformat": 4,
  "nbformat_minor": 0,
  "metadata": {
    "colab": {
      "provenance": []
    },
    "kernelspec": {
      "name": "python3",
      "display_name": "Python 3"
    },
    "language_info": {
      "name": "python"
    }
  },
  "cells": [
    {
      "cell_type": "markdown",
      "source": [
        "# **Homework**: Data talks club data engineering zoomcamp Data loading workshop\n",
        "\n",
        "Hello folks, let's practice what we learned - Loading data with the best practices of data engineering.\n",
        "\n",
        "Here are the exercises we will do\n",
        "\n",
        "\n"
      ],
      "metadata": {
        "id": "mrTFv5nPClXh"
      }
    },
    {
      "cell_type": "markdown",
      "source": [
        "# 1. Use a generator\n",
        "\n",
        "Remember the concept of generator? Let's practice using them to futher our understanding of how they work.\n",
        "\n",
        "Let's define a generator and then run it as practice.\n",
        "\n",
        "**Answer the following questions:**\n",
        "\n",
        "- **Question 1: What is the sum of the outputs of the generator for limit = 5?**\n",
        "- **Question 2: What is the 13th number yielded**\n",
        "\n",
        "I suggest practicing these questions without GPT as the purpose is to further your learning."
      ],
      "metadata": {
        "id": "wLF4iXf-NR7t"
      }
    },
    {
      "cell_type": "code",
      "source": [
        "def square_root_generator(limit):\n",
        "    n = 1\n",
        "    while n <= limit:\n",
        "        yield n ** 0.5\n",
        "        n += 1\n",
        "\n",
        "# Example usage:\n",
        "limit = 5\n",
        "generator = square_root_generator(limit)\n",
        "\n",
        "for sqrt_value in generator:\n",
        "    print(sqrt_value)\n"
      ],
      "metadata": {
        "colab": {
          "base_uri": "https://localhost:8080/"
        },
        "id": "wLng-bDJN4jf",
        "outputId": "e15ad9aa-c119-4b4f-e79b-2357bc7aee3a"
      },
      "execution_count": 1,
      "outputs": [
        {
          "output_type": "stream",
          "name": "stdout",
          "text": [
            "1.0\n",
            "1.4142135623730951\n",
            "1.7320508075688772\n",
            "2.0\n",
            "2.23606797749979\n"
          ]
        }
      ]
    },
    {
      "cell_type": "markdown",
      "source": [
        "### Questions 1 & 2"
      ],
      "metadata": {
        "id": "OvGNJLDkWw3h"
      }
    },
    {
      "cell_type": "code",
      "source": [
        "sum(square_root_generator(5))"
      ],
      "metadata": {
        "id": "a2-PRBAkGC2K",
        "colab": {
          "base_uri": "https://localhost:8080/"
        },
        "outputId": "02af903b-3e76-456e-c9f5-695f69624f0b"
      },
      "execution_count": 2,
      "outputs": [
        {
          "output_type": "execute_result",
          "data": {
            "text/plain": [
              "8.382332347441762"
            ]
          },
          "metadata": {},
          "execution_count": 2
        }
      ]
    },
    {
      "cell_type": "code",
      "source": [
        "num = 13\n",
        "[\n",
        "    value for i, value in enumerate(square_root_generator(num)) if i == num - 1\n",
        "][0]"
      ],
      "metadata": {
        "colab": {
          "base_uri": "https://localhost:8080/"
        },
        "id": "u39yJNKgZnJP",
        "outputId": "e5771a93-2a8c-4d6a-831e-9fada7228d59"
      },
      "execution_count": 3,
      "outputs": [
        {
          "output_type": "execute_result",
          "data": {
            "text/plain": [
              "3.605551275463989"
            ]
          },
          "metadata": {},
          "execution_count": 3
        }
      ]
    },
    {
      "cell_type": "markdown",
      "source": [
        "# 2. Append a generator to a table with existing data\n",
        "\n",
        "\n",
        "Below you have 2 generators. You will be tasked to load them to duckdb and answer some questions from the data\n",
        "\n",
        "1. Load the first generator and calculate the sum of ages of all people. Make sure to only load it once.\n",
        "2. Append the second generator to the same table as the first.\n",
        "3. **After correctly appending the data, calculate the sum of all ages of people.**\n",
        "\n",
        "\n"
      ],
      "metadata": {
        "id": "vjWhILzGJMpK"
      }
    },
    {
      "cell_type": "code",
      "execution_count": 4,
      "metadata": {
        "colab": {
          "base_uri": "https://localhost:8080/"
        },
        "id": "2MoaQcdLBEk6",
        "outputId": "35e13a13-ae12-464b-d7b1-8631075b6960"
      },
      "outputs": [
        {
          "output_type": "stream",
          "name": "stdout",
          "text": [
            "{'ID': 1, 'Name': 'Person_1', 'Age': 26, 'City': 'City_A'}\n",
            "{'ID': 2, 'Name': 'Person_2', 'Age': 27, 'City': 'City_A'}\n",
            "{'ID': 3, 'Name': 'Person_3', 'Age': 28, 'City': 'City_A'}\n",
            "{'ID': 4, 'Name': 'Person_4', 'Age': 29, 'City': 'City_A'}\n",
            "{'ID': 5, 'Name': 'Person_5', 'Age': 30, 'City': 'City_A'}\n",
            "{'ID': 3, 'Name': 'Person_3', 'Age': 33, 'City': 'City_B', 'Occupation': 'Job_3'}\n",
            "{'ID': 4, 'Name': 'Person_4', 'Age': 34, 'City': 'City_B', 'Occupation': 'Job_4'}\n",
            "{'ID': 5, 'Name': 'Person_5', 'Age': 35, 'City': 'City_B', 'Occupation': 'Job_5'}\n",
            "{'ID': 6, 'Name': 'Person_6', 'Age': 36, 'City': 'City_B', 'Occupation': 'Job_6'}\n",
            "{'ID': 7, 'Name': 'Person_7', 'Age': 37, 'City': 'City_B', 'Occupation': 'Job_7'}\n",
            "{'ID': 8, 'Name': 'Person_8', 'Age': 38, 'City': 'City_B', 'Occupation': 'Job_8'}\n"
          ]
        }
      ],
      "source": [
        "def people_1():\n",
        "    for i in range(1, 6):\n",
        "        yield {\"ID\": i, \"Name\": f\"Person_{i}\", \"Age\": 25 + i, \"City\": \"City_A\"}\n",
        "\n",
        "for person in people_1():\n",
        "    print(person)\n",
        "\n",
        "\n",
        "def people_2():\n",
        "    for i in range(3, 9):\n",
        "        yield {\"ID\": i, \"Name\": f\"Person_{i}\", \"Age\": 30 + i, \"City\": \"City_B\", \"Occupation\": f\"Job_{i}\"}\n",
        "\n",
        "\n",
        "for person in people_2():\n",
        "    print(person)\n"
      ]
    },
    {
      "cell_type": "markdown",
      "source": [
        "# 3. Merge a generator\n",
        "\n",
        "Re-use the generators from Exercise 2.\n",
        "\n",
        "A table's primary key needs to be created from the start, so load your data to a new table with primary key ID.\n",
        "\n",
        "Load your first generator first, and then load the second one with merge. Since they have overlapping IDs, some of the records from the first load should be replaced by the ones from the second load.\n",
        "\n",
        "After loading, you should have a total of 8 records, and ID 3 should have age 33.\n",
        "\n",
        "Question: **Calculate the sum of ages of all the people loaded as described above.**\n"
      ],
      "metadata": {
        "id": "pY4cFAWOSwN1"
      }
    },
    {
      "cell_type": "markdown",
      "source": [
        "# Solution: First make sure that the following modules are installed:"
      ],
      "metadata": {
        "id": "kKB2GTB9oVjr"
      }
    },
    {
      "cell_type": "code",
      "source": [
        "#Install the dependencies\n",
        "%%capture\n",
        "!pip install dlt[duckdb]"
      ],
      "metadata": {
        "id": "xTVvtyqrfVNq"
      },
      "execution_count": 5,
      "outputs": []
    },
    {
      "cell_type": "markdown",
      "source": [
        "### Questions 3 & 4"
      ],
      "metadata": {
        "id": "_NuUMlL3W4Bo"
      }
    },
    {
      "cell_type": "code",
      "source": [
        "import dlt\n",
        "import duckdb"
      ],
      "metadata": {
        "id": "_zyN9kmQZ5mJ"
      },
      "execution_count": 6,
      "outputs": []
    },
    {
      "cell_type": "code",
      "source": [
        "pipeline_name = 'hw'\n",
        "!rm {pipeline_name}.duckdb\n",
        "\n",
        "pipeline = dlt.pipeline(pipeline_name=pipeline_name, destination='duckdb')\n",
        "duck_con = duckdb.connect(f'{pipeline_name}.duckdb')"
      ],
      "metadata": {
        "colab": {
          "base_uri": "https://localhost:8080/"
        },
        "id": "1hbbIeUAng5Y",
        "outputId": "498756f7-9df5-492f-caba-d8e02a12af91"
      },
      "execution_count": 7,
      "outputs": [
        {
          "output_type": "stream",
          "name": "stdout",
          "text": [
            "rm: cannot remove 'hw.duckdb': No such file or directory\n"
          ]
        }
      ]
    },
    {
      "cell_type": "code",
      "source": [
        "appended_table_name = 'people_appended'\n",
        "\n",
        "first_ingestion_info = pipeline.run(people_1(), table_name=appended_table_name, primary_key='ID', write_disposition='append')\n",
        "second_ingestion_info = pipeline.run(people_2(), table_name=appended_table_name, primary_key='ID', write_disposition='append')\n",
        "print(first_ingestion_info)\n",
        "print(second_ingestion_info)"
      ],
      "metadata": {
        "colab": {
          "base_uri": "https://localhost:8080/"
        },
        "id": "_9lNNIhNcJ-o",
        "outputId": "ba25b6e9-50ba-42d7-de3b-0539298e4310"
      },
      "execution_count": 8,
      "outputs": [
        {
          "output_type": "stream",
          "name": "stdout",
          "text": [
            "Pipeline hw load step completed in 0.26 seconds\n",
            "1 load package(s) were loaded to destination duckdb and into dataset people\n",
            "The duckdb destination used duckdb:////content/hw.duckdb location to store data\n",
            "Load package 1707343824.207236 is LOADED and contains no failed jobs\n",
            "Pipeline hw load step completed in 0.24 seconds\n",
            "1 load package(s) were loaded to destination duckdb and into dataset people\n",
            "The duckdb destination used duckdb:////content/hw.duckdb location to store data\n",
            "Load package 1707343824.9468977 is LOADED and contains no failed jobs\n"
          ]
        }
      ]
    },
    {
      "cell_type": "code",
      "source": [
        "duck_con.sql(f'SELECT * FROM people.{appended_table_name}')"
      ],
      "metadata": {
        "colab": {
          "base_uri": "https://localhost:8080/"
        },
        "id": "YasZTrwNg3sf",
        "outputId": "485503c6-ce06-4f8f-cb0c-04b6b5bbe4d7"
      },
      "execution_count": 9,
      "outputs": [
        {
          "output_type": "execute_result",
          "data": {
            "text/plain": [
              "┌───────┬──────────┬───────┬─────────┬────────────────────┬────────────────┬────────────┐\n",
              "│  id   │   name   │  age  │  city   │    _dlt_load_id    │    _dlt_id     │ occupation │\n",
              "│ int64 │ varchar  │ int64 │ varchar │      varchar       │    varchar     │  varchar   │\n",
              "├───────┼──────────┼───────┼─────────┼────────────────────┼────────────────┼────────────┤\n",
              "│     1 │ Person_1 │    26 │ City_A  │ 1707343824.207236  │ 4/g1LbrEt5iBYg │ NULL       │\n",
              "│     2 │ Person_2 │    27 │ City_A  │ 1707343824.207236  │ rBvNennV9LaIoA │ NULL       │\n",
              "│     3 │ Person_3 │    28 │ City_A  │ 1707343824.207236  │ mL+rLK+gUBUvJQ │ NULL       │\n",
              "│     4 │ Person_4 │    29 │ City_A  │ 1707343824.207236  │ e46r7kZNQx+PDw │ NULL       │\n",
              "│     5 │ Person_5 │    30 │ City_A  │ 1707343824.207236  │ TCrOlBVGc2AZ6w │ NULL       │\n",
              "│     3 │ Person_3 │    33 │ City_B  │ 1707343824.9468977 │ E3XAoiCnq1KwUA │ Job_3      │\n",
              "│     4 │ Person_4 │    34 │ City_B  │ 1707343824.9468977 │ SPzotkyKANFwZA │ Job_4      │\n",
              "│     5 │ Person_5 │    35 │ City_B  │ 1707343824.9468977 │ 7pTSftYJ+v7NpA │ Job_5      │\n",
              "│     6 │ Person_6 │    36 │ City_B  │ 1707343824.9468977 │ 662w6Zb7XCE83A │ Job_6      │\n",
              "│     7 │ Person_7 │    37 │ City_B  │ 1707343824.9468977 │ rx2LC0Y2F9kqRA │ Job_7      │\n",
              "│     8 │ Person_8 │    38 │ City_B  │ 1707343824.9468977 │ 5NpniltPveuH2A │ Job_8      │\n",
              "├───────┴──────────┴───────┴─────────┴────────────────────┴────────────────┴────────────┤\n",
              "│ 11 rows                                                                     7 columns │\n",
              "└───────────────────────────────────────────────────────────────────────────────────────┘"
            ]
          },
          "metadata": {},
          "execution_count": 9
        }
      ]
    },
    {
      "cell_type": "code",
      "source": [
        "duck_con.sql(f'SELECT SUM(age) FROM people.{appended_table_name}')"
      ],
      "metadata": {
        "colab": {
          "base_uri": "https://localhost:8080/"
        },
        "id": "s2hA2RBjjbB2",
        "outputId": "ea9cc82e-3908-4723-cca3-0f4965de6c89"
      },
      "execution_count": 10,
      "outputs": [
        {
          "output_type": "execute_result",
          "data": {
            "text/plain": [
              "┌──────────┐\n",
              "│ sum(age) │\n",
              "│  int128  │\n",
              "├──────────┤\n",
              "│      353 │\n",
              "└──────────┘"
            ]
          },
          "metadata": {},
          "execution_count": 10
        }
      ]
    },
    {
      "cell_type": "code",
      "source": [
        "merged_table_name = 'people_merged'\n",
        "\n",
        "first_ingestion_info = pipeline.run(people_1(), table_name=merged_table_name, primary_key='ID', write_disposition='merge')\n",
        "second_ingestion_info = pipeline.run(people_2(), table_name=merged_table_name, primary_key='ID', write_disposition='merge')\n",
        "print(first_ingestion_info)\n",
        "print(second_ingestion_info)"
      ],
      "metadata": {
        "colab": {
          "base_uri": "https://localhost:8080/"
        },
        "id": "UdCfuzufkG7p",
        "outputId": "3cfef1fe-8a88-4c0b-8b2b-e1f1428843a2"
      },
      "execution_count": 11,
      "outputs": [
        {
          "output_type": "stream",
          "name": "stdout",
          "text": [
            "Pipeline hw load step completed in 0.43 seconds\n",
            "1 load package(s) were loaded to destination duckdb and into dataset people\n",
            "The duckdb destination used duckdb:////content/hw.duckdb location to store data\n",
            "Load package 1707343825.688407 is LOADED and contains no failed jobs\n",
            "Pipeline hw load step completed in 0.44 seconds\n",
            "1 load package(s) were loaded to destination duckdb and into dataset people\n",
            "The duckdb destination used duckdb:////content/hw.duckdb location to store data\n",
            "Load package 1707343826.5512278 is LOADED and contains no failed jobs\n"
          ]
        }
      ]
    },
    {
      "cell_type": "code",
      "source": [
        "duck_con.sql('SELECT * FROM people.people_merged ORDER BY name')"
      ],
      "metadata": {
        "colab": {
          "base_uri": "https://localhost:8080/"
        },
        "id": "5Zxnt04Ukcxg",
        "outputId": "ea65db45-1e34-45a8-dd19-2fa6044cef3e"
      },
      "execution_count": 12,
      "outputs": [
        {
          "output_type": "execute_result",
          "data": {
            "text/plain": [
              "┌───────┬──────────┬───────┬─────────┬────────────────────┬────────────────┬────────────┐\n",
              "│  id   │   name   │  age  │  city   │    _dlt_load_id    │    _dlt_id     │ occupation │\n",
              "│ int64 │ varchar  │ int64 │ varchar │      varchar       │    varchar     │  varchar   │\n",
              "├───────┼──────────┼───────┼─────────┼────────────────────┼────────────────┼────────────┤\n",
              "│     1 │ Person_1 │    26 │ City_A  │ 1707343825.688407  │ IBN1kMoTU3V/MA │ NULL       │\n",
              "│     2 │ Person_2 │    27 │ City_A  │ 1707343825.688407  │ sMvCGPYmONpefQ │ NULL       │\n",
              "│     3 │ Person_3 │    33 │ City_B  │ 1707343826.5512278 │ bWdA6DFVcEc38Q │ Job_3      │\n",
              "│     4 │ Person_4 │    34 │ City_B  │ 1707343826.5512278 │ ccDFbhOlcEdozg │ Job_4      │\n",
              "│     5 │ Person_5 │    35 │ City_B  │ 1707343826.5512278 │ VaoZp0WxyValyQ │ Job_5      │\n",
              "│     6 │ Person_6 │    36 │ City_B  │ 1707343826.5512278 │ JSka8nKBB60KqQ │ Job_6      │\n",
              "│     7 │ Person_7 │    37 │ City_B  │ 1707343826.5512278 │ H8o/bIWIAUGu2A │ Job_7      │\n",
              "│     8 │ Person_8 │    38 │ City_B  │ 1707343826.5512278 │ +GbT/Sa0C1ptpw │ Job_8      │\n",
              "└───────┴──────────┴───────┴─────────┴────────────────────┴────────────────┴────────────┘"
            ]
          },
          "metadata": {},
          "execution_count": 12
        }
      ]
    },
    {
      "cell_type": "code",
      "source": [
        "duck_con.sql('SELECT SUM(age) FROM people.people_merged')"
      ],
      "metadata": {
        "colab": {
          "base_uri": "https://localhost:8080/"
        },
        "id": "M3T2rFMKkdRt",
        "outputId": "a667b9c8-88ea-4ea3-bacd-6ab897f67934"
      },
      "execution_count": 13,
      "outputs": [
        {
          "output_type": "execute_result",
          "data": {
            "text/plain": [
              "┌──────────┐\n",
              "│ sum(age) │\n",
              "│  int128  │\n",
              "├──────────┤\n",
              "│      266 │\n",
              "└──────────┘"
            ]
          },
          "metadata": {},
          "execution_count": 13
        }
      ]
    },
    {
      "cell_type": "markdown",
      "source": [
        "Questions? difficulties? We are here to help.\n",
        "- DTC data engineering course channel: https://datatalks-club.slack.com/archives/C01FABYF2RG\n",
        "- dlt's DTC cohort channel: https://dlthub-community.slack.com/archives/C06GAEX2VNX"
      ],
      "metadata": {
        "id": "PoTJu4kbGG0z"
      }
    }
  ]
}

